{
 "cells": [
  {
   "cell_type": "code",
   "execution_count": 7,
   "metadata": {},
   "outputs": [
    {
     "name": "stdout",
     "output_type": "stream",
     "text": [
      "<class 'float'>\n"
     ]
    }
   ],
   "source": [
    "a = 100.789; print(type(a))"
   ]
  },
  {
   "cell_type": "code",
   "execution_count": 9,
   "metadata": {},
   "outputs": [
    {
     "name": "stdout",
     "output_type": "stream",
     "text": [
      "<class 'float'>\n"
     ]
    }
   ],
   "source": [
    "a = 5.21; a = float(a); print(type(a))"
   ]
  },
  {
   "cell_type": "code",
   "execution_count": 14,
   "metadata": {},
   "outputs": [
    {
     "name": "stdout",
     "output_type": "stream",
     "text": [
      "<class 'int'>\n"
     ]
    }
   ],
   "source": [
    "a = 2.59; a = int(a); print(type(a))"
   ]
  },
  {
   "cell_type": "markdown",
   "metadata": {},
   "source": [
    "print () : 값을 출력 type () : 변수의 type\n",
    "type의 종류\n",
    "float : 실수\n",
    "int : 정수\n",
    "str : 문자열 , 문자열을 표기할때는 따옴표''로 묶는다. ex) '가나다'"
   ]
  },
  {
   "cell_type": "code",
   "execution_count": 22,
   "metadata": {},
   "outputs": [
    {
     "name": "stdout",
     "output_type": "stream",
     "text": [
      "<class 'str'>\n",
      "라\n"
     ]
    }
   ],
   "source": [
    "a = '가나다라마'; print(type(a)); print(a[-2])"
   ]
  },
  {
   "cell_type": "code",
   "execution_count": 27,
   "metadata": {},
   "outputs": [
    {
     "name": "stdout",
     "output_type": "stream",
     "text": [
      "<class 'list'>\n",
      "['5', '8', '7', '5', '3', '.', '2', '0', '4', '5']\n",
      "4\n"
     ]
    }
   ],
   "source": [
    "a = '58753.2045'; a = list(a); print(type(a)); print(a); print(a[-2])"
   ]
  },
  {
   "cell_type": "code",
   "execution_count": 37,
   "metadata": {
    "scrolled": true
   },
   "outputs": [
    {
     "name": "stdout",
     "output_type": "stream",
     "text": [
      "<class 'list'>\n",
      "[1, '미국산문']\n",
      "2\n",
      "[3, '영어학개론']\n"
     ]
    }
   ],
   "source": [
    "c = [[1, '미국산문'],'2', [3, '영어학개론']]; print(type(c)); print(c[0]); print(c[1]); print(c[2])"
   ]
  },
  {
   "cell_type": "code",
   "execution_count": 38,
   "metadata": {
    "scrolled": false
   },
   "outputs": [
    {
     "name": "stdout",
     "output_type": "stream",
     "text": [
      "<class 'tuple'>\n",
      "1\n",
      "2\n",
      "[3, '4']\n"
     ]
    }
   ],
   "source": [
    "a = (1,'2', [3, '4']); print(type(a)); print(a[0]); print(a[1]); print(a[2])"
   ]
  },
  {
   "cell_type": "code",
   "execution_count": 48,
   "metadata": {},
   "outputs": [
    {
     "name": "stdout",
     "output_type": "stream",
     "text": [
      "([1, 2, 'ab', [4, 5]], None)\n"
     ]
    }
   ],
   "source": [
    "a=[1,2,'ab',[4,5]], print(a)"
   ]
  },
  {
   "cell_type": "markdown",
   "metadata": {},
   "source": [
    "python [#]는 각각\n",
    "[0] : 1번째\n",
    "[1] : 2번째\n",
    "[-1] : 제일 마지막 것\n",
    "[-2] : 뒤에서 두번째를 지칭한다.\n",
    "type () : tuple type [] : list\n",
    "list속에는 또 다른 list가 생성 가능 하다. ex) a=[1,2,'ab',[4,5]]"
   ]
  },
  {
   "cell_type": "code",
   "execution_count": 52,
   "metadata": {},
   "outputs": [
    {
     "name": "stdout",
     "output_type": "stream",
     "text": [
      "<class 'dict'>\n",
      "스코틀랜드\n",
      "러시아\n"
     ]
    }
   ],
   "source": [
    "a =\t{\"가\": \"호랑이\", \"나\": \"러시아\", \"s\": '스코틀랜드'}\n",
    "print(type(a))\n",
    "print(a[\"s\"]);print(a[\"나\"])"
   ]
  },
  {
   "cell_type": "markdown",
   "metadata": {},
   "source": [
    "dictionary : {}로 묶는다. / type () : tuple type [] : list\n",
    "; 다음 행"
   ]
  },
  {
   "cell_type": "code",
   "execution_count": 53,
   "metadata": {},
   "outputs": [
    {
     "name": "stdout",
     "output_type": "stream",
     "text": [
      "<class 'list'>\n"
     ]
    },
    {
     "data": {
      "text/plain": [
       "[(1, 2, 3), (3, 8, 0)]"
      ]
     },
     "execution_count": 53,
     "metadata": {},
     "output_type": "execute_result"
    }
   ],
   "source": [
    "a=[(1,2,3), (3,8,0)]\n",
    "print(type(a))\n",
    "a"
   ]
  },
  {
   "cell_type": "markdown",
   "metadata": {},
   "source": [
    "ㄴ 2x3의 행렬 형태"
   ]
  },
  {
   "cell_type": "code",
   "execution_count": 55,
   "metadata": {},
   "outputs": [
    {
     "name": "stdout",
     "output_type": "stream",
     "text": [
      "[[1 2 3]\n",
      " [3 8 0]]\n",
      "<class 'numpy.ndarray'>\n"
     ]
    }
   ],
   "source": [
    "import numpy as np\n",
    "b = np.array(a)\n",
    "print(b)\n",
    "print(type(b))"
   ]
  },
  {
   "cell_type": "markdown",
   "metadata": {},
   "source": [
    "import : 하드디스크에 저장된 것을 메모리에 불러오는 작업 (directory의 정보를 메모리에 띄우기) \n",
    "numpy : import를 사용해 메모리로 불러와야함 (numpy - directory에 존재한다.) a는 numpy내에 존재하는 함수를 지칭한다.\n",
    "if) import numpy라고만 쓰면 b = numpy.array(a)라고 써야함 : 그냥 array(a)만 쓰면 numpy가 지정되지 않았기 때문에 오류발생. \n",
    "as np (타이핑의 편의상 설정)"
   ]
  },
  {
   "cell_type": "code",
   "execution_count": 58,
   "metadata": {
    "scrolled": true
   },
   "outputs": [
    {
     "name": "stdout",
     "output_type": "stream",
     "text": [
      "[[ 1  4  9]\n",
      " [ 9 64  0]]\n"
     ]
    }
   ],
   "source": [
    "print(b*b)"
   ]
  },
  {
   "cell_type": "markdown",
   "metadata": {},
   "source": [
    "ㄴ axb 행렬과 곱할 수 있는 행렬의 형태는 bxc, bxb는 2x3와 2x3의 곱 -> 실제론 행렬이 아니라, 형태만 행렬인 것으로 도출"
   ]
  },
  {
   "cell_type": "code",
   "execution_count": 59,
   "metadata": {},
   "outputs": [
    {
     "name": "stdout",
     "output_type": "stream",
     "text": [
      "[[1 2 3]\n",
      " [3 8 0]]\n",
      "<class 'numpy.matrixlib.defmatrix.matrix'>\n"
     ]
    }
   ],
   "source": [
    "c = np.matrix(b)\n",
    "print(c)\n",
    "print(type(c))"
   ]
  },
  {
   "cell_type": "markdown",
   "metadata": {},
   "source": [
    "np내에 존재하는 matrix (함수)\n",
    "<class 'numpy.matrixlib.defmatrix.matrix'> : c의 타입을 의미한다."
   ]
  },
  {
   "cell_type": "code",
   "execution_count": null,
   "metadata": {},
   "outputs": [],
   "source": [
    "c*c"
   ]
  },
  {
   "cell_type": "code",
   "execution_count": null,
   "metadata": {},
   "outputs": [],
   "source": [
    "c*c.T"
   ]
  },
  {
   "cell_type": "markdown",
   "metadata": {},
   "source": [
    "T : transpose로, 본래 c가 2x3 matrix였는데 T를 이용해 flip함으로써 3x2의 형태로 변화시킨다. 따라서 2x2의 행렬이 도출"
   ]
  },
  {
   "cell_type": "code",
   "execution_count": null,
   "metadata": {},
   "outputs": [],
   "source": []
  }
 ],
 "metadata": {
  "kernelspec": {
   "display_name": "Python 3",
   "language": "python",
   "name": "python3"
  },
  "language_info": {
   "codemirror_mode": {
    "name": "ipython",
    "version": 3
   },
   "file_extension": ".py",
   "mimetype": "text/x-python",
   "name": "python",
   "nbconvert_exporter": "python",
   "pygments_lexer": "ipython3",
   "version": "3.7.1"
  }
 },
 "nbformat": 4,
 "nbformat_minor": 1
}
