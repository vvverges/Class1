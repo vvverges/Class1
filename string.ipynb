{
 "cells": [
  {
   "cell_type": "markdown",
   "metadata": {},
   "source": [
    "### string class들의 사용방법 (string class에서 이용할 수 있는 함수의 종류들)"
   ]
  },
  {
   "cell_type": "code",
   "execution_count": 5,
   "metadata": {},
   "outputs": [
    {
     "name": "stdout",
     "output_type": "stream",
     "text": [
      "미 도 파 라\n",
      "레미파솔라시 레 도레미파솔 도레미파솔라시도\n"
     ]
    }
   ],
   "source": [
    "s = '도레미파솔라시도'\n",
    "print(s[2], s[7], s[-5], s[-3])\n",
    "print(s[1:7], s[1:2], s[:-3], s[:])"
   ]
  },
  {
   "cell_type": "markdown",
   "metadata": {},
   "source": [
    "1:3은 1~2까지만 도출 (1~3이 아님에 유의) 1: (1에서 끝까지) :3 (처음(0)부터 3까지)"
   ]
  },
  {
   "cell_type": "code",
   "execution_count": 11,
   "metadata": {},
   "outputs": [
    {
     "name": "stdout",
     "output_type": "stream",
     "text": [
      "100 300 300 100\n",
      "[200] [200, 300] [100, 200] [100, 200, 300]\n"
     ]
    }
   ],
   "source": [
    "n = [100, 200, 300]\n",
    "print(n[0], n[2], n[-1], n[-3])\n",
    "print(n[1:2], n[1:], n[:2], n[:])"
   ]
  },
  {
   "cell_type": "code",
   "execution_count": 6,
   "metadata": {
    "scrolled": true
   },
   "outputs": [
    {
     "data": {
      "text/plain": [
       "8"
      ]
     },
     "execution_count": 6,
     "metadata": {},
     "output_type": "execute_result"
    }
   ],
   "source": [
    "len(s)"
   ]
  },
  {
   "cell_type": "markdown",
   "metadata": {},
   "source": [
    "ㄴ len(s) - string의 개수를 도출"
   ]
  },
  {
   "cell_type": "code",
   "execution_count": 8,
   "metadata": {},
   "outputs": [
    {
     "data": {
      "text/plain": [
       "'미라라라라라라라라라라라라라라라라라라라라라라라라라라라라라라라라라라라라라라라라라라라라라라라라라라라라라라라라라라라라라라라라라라라라라라라라라라라라라라라라라라라라라라라라라라라라라라라라라라라라파솔라시파솔라시파솔라시파솔라시파솔라시파솔라시파솔라시파솔라시파솔라시파솔라시파솔라시파솔라시파솔라시파솔라시파솔라시파솔라시파솔라시파솔라시파솔라시파솔라시파솔라시파솔라시파솔라시파솔라시파솔라시파솔라시파솔라시파솔라시파솔라시파솔라시파솔라시파솔라시파솔라시파솔라시파솔라시파솔라시파솔라시파솔라시파솔라시파솔라시파솔라시파솔라시파솔라시파솔라시파솔라시파솔라시파솔라시파솔라시파솔라시파솔라시파솔라시파솔라시파솔라시파솔라시파솔라시파솔라시파솔라시파솔라시파솔라시파솔라시파솔라시파솔라시파솔라시파솔라시파솔라시파솔라시파솔라시파솔라시파솔라시파솔라시파솔라시파솔라시파솔라시파솔라시파솔라시파솔라시파솔라시파솔라시파솔라시파솔라시파솔라시파솔라시파솔라시파솔라시파솔라시파솔라시파솔라시파솔라시파솔라시파솔라시파솔라시파솔라시파솔라시파솔라시파솔라시파솔라시파솔라시파솔라시파솔라시파솔라시'"
      ]
     },
     "execution_count": 8,
     "metadata": {},
     "output_type": "execute_result"
    }
   ],
   "source": [
    "s[2]+s[5]*100+s[3:7]*100"
   ]
  },
  {
   "cell_type": "markdown",
   "metadata": {},
   "source": [
    "string에 대하여 +을 사용 - 연결\n",
    "\n",
    "star * - \"반복\"을 의미"
   ]
  },
  {
   "cell_type": "code",
   "execution_count": 10,
   "metadata": {},
   "outputs": [],
   "source": [
    "s = 'sangria wine'"
   ]
  },
  {
   "cell_type": "code",
   "execution_count": 11,
   "metadata": {},
   "outputs": [
    {
     "data": {
      "text/plain": [
       "'SANGRIA WINE'"
      ]
     },
     "execution_count": 11,
     "metadata": {},
     "output_type": "execute_result"
    }
   ],
   "source": [
    "s.upper()"
   ]
  },
  {
   "cell_type": "markdown",
   "metadata": {},
   "source": [
    "ㄴ string 내의 upper라는 함수를 사용하면 string을 대문자로 만들 수 있다."
   ]
  },
  {
   "cell_type": "code",
   "execution_count": 18,
   "metadata": {},
   "outputs": [
    {
     "data": {
      "text/plain": [
       "' Wuthering heights and Macro Economics.\\n'"
      ]
     },
     "execution_count": 18,
     "metadata": {},
     "output_type": "execute_result"
    }
   ],
   "source": [
    "s = ' Wuthering heights and Macro Economics.\\n' \t\n",
    "s"
   ]
  },
  {
   "cell_type": "code",
   "execution_count": 25,
   "metadata": {},
   "outputs": [
    {
     "data": {
      "text/plain": [
       "23"
      ]
     },
     "execution_count": 25,
     "metadata": {},
     "output_type": "execute_result"
    }
   ],
   "source": [
    "result = s.find('a')    # index of first instance of string t inside s (-1 if not found)\n",
    "result = s.find('Macro') \n",
    "result"
   ]
  },
  {
   "cell_type": "code",
   "execution_count": 27,
   "metadata": {},
   "outputs": [
    {
     "data": {
      "text/plain": [
       "9"
      ]
     },
     "execution_count": 27,
     "metadata": {},
     "output_type": "execute_result"
    }
   ],
   "source": [
    "result = s.find('g')\t    # index of last instance of string t inside s (-1 if not found)\n",
    "result"
   ]
  },
  {
   "cell_type": "markdown",
   "metadata": {},
   "source": [
    "s : class를 의미함. find함수는 처음 나오는 index만 찾아준다.(left에서 부터) / rindex를 사용하면 오른쪽에서 부터 찾아줌."
   ]
  },
  {
   "cell_type": "code",
   "execution_count": 29,
   "metadata": {},
   "outputs": [
    {
     "data": {
      "text/plain": [
       "15"
      ]
     },
     "execution_count": 29,
     "metadata": {},
     "output_type": "execute_result"
    }
   ],
   "source": [
    "result = s.rindex('h')        # like s.find(t) except it raises ValueError if not found\n",
    "result"
   ]
  },
  {
   "cell_type": "code",
   "execution_count": 33,
   "metadata": {},
   "outputs": [
    {
     "data": {
      "text/plain": [
       "'Wuthering heights and Macro Economics.'"
      ]
     },
     "execution_count": 33,
     "metadata": {},
     "output_type": "execute_result"
    }
   ],
   "source": [
    "s = s.strip(' ')      \t            # a copy of s without leading or trailing whitespace\n",
    "s"
   ]
  },
  {
   "cell_type": "markdown",
   "metadata": {},
   "source": [
    "strip역시 s에서 제공되는 함수. # - 양쪽에 존재하는 white spaces를 지워줌. 만약 s=s.strip()이 아니라 s.strip()만 쓴다면 s가 변화하지 않는다."
   ]
  },
  {
   "cell_type": "code",
   "execution_count": 41,
   "metadata": {},
   "outputs": [
    {
     "data": {
      "text/plain": [
       "['Wuther g he ghts and Macro Econom cs.']"
      ]
     },
     "execution_count": 41,
     "metadata": {},
     "output_type": "execute_result"
    }
   ],
   "source": [
    "tokens = s.split('in')\t        # split s into a list wherever a t is found (whitespace by default)\n",
    "tokens"
   ]
  },
  {
   "cell_type": "markdown",
   "metadata": {},
   "source": [
    "text의 string을 단어별로 tokenize?하고 싶은 경우, split이라는 함수를 사용한다. \n",
    "예를 들어, (' ')- space가 기준이 되어, space가 나오는 경우를 기준으로 token의 형태로 쪼갠다."
   ]
  },
  {
   "cell_type": "code",
   "execution_count": 42,
   "metadata": {},
   "outputs": [
    {
     "data": {
      "text/plain": [
       "'Wuther g he ghts and Macro Econom cs.'"
      ]
     },
     "execution_count": 42,
     "metadata": {},
     "output_type": "execute_result"
    }
   ],
   "source": [
    "s = ' '.join(tokens)\t        # combine the words of the text into a string using s as the glue\n",
    "s"
   ]
  },
  {
   "cell_type": "markdown",
   "metadata": {},
   "source": [
    "tokenized?된 string을 다시 원문대로 붙여 복원하고 싶은 경우 - join의 사용. 위의 셀에서는 ' ', 즉, space를 기준으로 join한다는 의미. ' '(space)는 variable은 아니지만, 하나의 class로 존재하여 함수를 사용한다.\n",
    "\n"
   ]
  },
  {
   "cell_type": "code",
   "execution_count": 52,
   "metadata": {},
   "outputs": [
    {
     "data": {
      "text/plain": [
       "'WuMicroer g he ghts or Micro Econom cs.'"
      ]
     },
     "execution_count": 52,
     "metadata": {},
     "output_type": "execute_result"
    }
   ],
   "source": [
    "s = s.replace('th', 'Micro')   # replace instances of t with u inside s\n",
    "s = s.replace('and', 'or')\n",
    "s"
   ]
  },
  {
   "cell_type": "markdown",
   "metadata": {},
   "source": [
    "ㄴ replace 함수를 이용해 this를 that으로 일괄적으로 바꿔준다."
   ]
  },
  {
   "cell_type": "code",
   "execution_count": null,
   "metadata": {},
   "outputs": [],
   "source": []
  }
 ],
 "metadata": {
  "kernelspec": {
   "display_name": "Python 3",
   "language": "python",
   "name": "python3"
  },
  "language_info": {
   "codemirror_mode": {
    "name": "ipython",
    "version": 3
   },
   "file_extension": ".py",
   "mimetype": "text/x-python",
   "name": "python",
   "nbconvert_exporter": "python",
   "pygments_lexer": "ipython3",
   "version": "3.7.1"
  }
 },
 "nbformat": 4,
 "nbformat_minor": 1
}
